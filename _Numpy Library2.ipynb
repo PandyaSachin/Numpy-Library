{
 "cells": [
  {
   "cell_type": "code",
   "execution_count": 35,
   "id": "c1850818",
   "metadata": {},
   "outputs": [],
   "source": [
    "import numpy as np"
   ]
  },
  {
   "cell_type": "markdown",
   "id": "9693c049",
   "metadata": {},
   "source": [
    "# 1)Converting list to Array"
   ]
  },
  {
   "cell_type": "code",
   "execution_count": 36,
   "id": "83a5b189",
   "metadata": {},
   "outputs": [
    {
     "name": "stdout",
     "output_type": "stream",
     "text": [
      "<class 'list'>\n",
      "<class 'numpy.ndarray'>\n",
      "[1 2 3 4]\n"
     ]
    }
   ],
   "source": [
    "lst=[1,2,3,4]\n",
    "print(type(lst))\n",
    "arr=np.array(lst)\n",
    "print(type(arr))\n",
    "print(arr)"
   ]
  },
  {
   "cell_type": "code",
   "execution_count": 37,
   "id": "a5802bb3",
   "metadata": {},
   "outputs": [],
   "source": [
    "arr=np.array(lst,ndmin=2)"
   ]
  },
  {
   "cell_type": "code",
   "execution_count": 38,
   "id": "a1210e1b",
   "metadata": {},
   "outputs": [
    {
     "data": {
      "text/plain": [
       "array([[1, 2, 3, 4]])"
      ]
     },
     "execution_count": 38,
     "metadata": {},
     "output_type": "execute_result"
    }
   ],
   "source": [
    "arr"
   ]
  },
  {
   "cell_type": "markdown",
   "id": "cbfff970",
   "metadata": {},
   "source": [
    "# 2)Arrange Function"
   ]
  },
  {
   "cell_type": "code",
   "execution_count": 39,
   "id": "59d97835",
   "metadata": {},
   "outputs": [
    {
     "data": {
      "text/plain": [
       "array([1, 6])"
      ]
     },
     "execution_count": 39,
     "metadata": {},
     "output_type": "execute_result"
    }
   ],
   "source": [
    "np.arange(1,10,5)"
   ]
  },
  {
   "cell_type": "code",
   "execution_count": 40,
   "id": "98450f21",
   "metadata": {},
   "outputs": [
    {
     "name": "stdout",
     "output_type": "stream",
     "text": [
      "1\n",
      "2\n",
      "3\n",
      "4\n",
      "5\n",
      "6\n",
      "7\n",
      "8\n",
      "9\n"
     ]
    }
   ],
   "source": [
    "for i in range(1,10,1):\n",
    "    print(i)"
   ]
  },
  {
   "cell_type": "code",
   "execution_count": 41,
   "id": "515e05c6",
   "metadata": {},
   "outputs": [
    {
     "name": "stdout",
     "output_type": "stream",
     "text": [
      "1\n",
      "3\n",
      "5\n",
      "7\n",
      "9\n"
     ]
    }
   ],
   "source": [
    "for i in range(1,10,2):\n",
    "    print(i)"
   ]
  },
  {
   "cell_type": "markdown",
   "id": "e3988264",
   "metadata": {},
   "source": [
    "# 3)Multidimentional Array"
   ]
  },
  {
   "cell_type": "code",
   "execution_count": 42,
   "id": "6298da88",
   "metadata": {},
   "outputs": [
    {
     "name": "stdout",
     "output_type": "stream",
     "text": [
      "Total : 9\n",
      "Rows : 3\n",
      "Cols : 3\n"
     ]
    },
    {
     "data": {
      "text/plain": [
       "array([[1, 2, 3],\n",
       "       [4, 5, 6],\n",
       "       [7, 8, 9]])"
      ]
     },
     "execution_count": 42,
     "metadata": {},
     "output_type": "execute_result"
    }
   ],
   "source": [
    "arr=np.array([[1,2,3],[4,5,6],[7,8,9]])\n",
    "\n",
    "print(\"Total :\",arr.size)\n",
    "print(\"Rows :\",np.size(arr,0))\n",
    "print(\"Cols :\",np.size(arr,1))\n",
    "arr"
   ]
  },
  {
   "cell_type": "markdown",
   "id": "19fb8a3a",
   "metadata": {},
   "source": [
    "# 4)Shape Function"
   ]
  },
  {
   "cell_type": "code",
   "execution_count": 43,
   "id": "573f43e6",
   "metadata": {},
   "outputs": [
    {
     "name": "stdout",
     "output_type": "stream",
     "text": [
      "(3, 3)\n",
      "(3, 3)\n"
     ]
    }
   ],
   "source": [
    "arr=np.array([[1,2,3],[4,5,6],[7,8,9]])\n",
    "print((np.size(arr,1),np.size(arr,0)))\n",
    "print(arr.shape)"
   ]
  },
  {
   "cell_type": "markdown",
   "id": "758d8c02",
   "metadata": {},
   "source": [
    "# 5)Dtype Function"
   ]
  },
  {
   "cell_type": "code",
   "execution_count": 44,
   "id": "7ccbff05",
   "metadata": {},
   "outputs": [
    {
     "name": "stdout",
     "output_type": "stream",
     "text": [
      "int32\n",
      "float64\n"
     ]
    }
   ],
   "source": [
    "arr=np.array([[1,2,3],[4,5,6],[7,8,9]])\n",
    "arr1=np.array([[1.5,2.5,3.5],[4.5,5.5,6.5],[7.5,8.5,9.5]])\n",
    "print(arr.dtype)\n",
    "print(arr1.dtype)"
   ]
  },
  {
   "cell_type": "markdown",
   "id": "95f70bd2",
   "metadata": {},
   "source": [
    "# 6)Ndim Fucntion"
   ]
  },
  {
   "cell_type": "code",
   "execution_count": 45,
   "id": "947e262a",
   "metadata": {},
   "outputs": [
    {
     "name": "stdout",
     "output_type": "stream",
     "text": [
      "2\n",
      "1\n",
      "[[[1 2 3]\n",
      "  [4 5 6]\n",
      "  [7 8 9]]]\n"
     ]
    }
   ],
   "source": [
    "arr1=np.array([[1,2,3],[4,5,6],[7,8,9]])\n",
    "arr2=np.array([1,2,3,4,5,6,7,8,9])\n",
    "print(arr1.ndim)\n",
    "print(arr2.ndim)\n",
    "\n",
    "\n",
    "arr3=np.array(arr1,ndmin=3)\n",
    "print(arr3)"
   ]
  },
  {
   "cell_type": "markdown",
   "id": "d9446c1d",
   "metadata": {},
   "source": [
    "# 7)Zeros FUnction"
   ]
  },
  {
   "cell_type": "code",
   "execution_count": 46,
   "id": "e84cac83",
   "metadata": {},
   "outputs": [
    {
     "name": "stdout",
     "output_type": "stream",
     "text": [
      "[[0 0 0 0 0]\n",
      " [0 0 0 0 0]\n",
      " [0 0 0 0 0]]\n"
     ]
    }
   ],
   "source": [
    "arr=np.zeros(shape=(3,5),dtype=int)\n",
    "print(arr)\n"
   ]
  },
  {
   "cell_type": "markdown",
   "id": "3503ebde",
   "metadata": {},
   "source": [
    "# 8)Ones Function"
   ]
  },
  {
   "cell_type": "code",
   "execution_count": 47,
   "id": "2f2f2d4f",
   "metadata": {},
   "outputs": [
    {
     "name": "stdout",
     "output_type": "stream",
     "text": [
      "[[1 1 1 1 1]\n",
      " [1 1 1 1 1]\n",
      " [1 1 1 1 1]]\n"
     ]
    }
   ],
   "source": [
    "arr=np.ones(shape=(3,5),dtype=int)\n",
    "print(arr)"
   ]
  },
  {
   "cell_type": "markdown",
   "id": "cf70f848",
   "metadata": {},
   "source": [
    "# 9)Eye Function"
   ]
  },
  {
   "cell_type": "code",
   "execution_count": 48,
   "id": "e67b890e",
   "metadata": {},
   "outputs": [
    {
     "data": {
      "text/plain": [
       "array([[1, 0, 0, 0],\n",
       "       [0, 1, 0, 0],\n",
       "       [0, 0, 1, 0],\n",
       "       [0, 0, 0, 1]])"
      ]
     },
     "execution_count": 48,
     "metadata": {},
     "output_type": "execute_result"
    }
   ],
   "source": [
    "np.eye(4,dtype=int)"
   ]
  },
  {
   "cell_type": "markdown",
   "id": "3fea641a",
   "metadata": {},
   "source": [
    "# 10)Empty Function"
   ]
  },
  {
   "cell_type": "code",
   "execution_count": 49,
   "id": "0c046c2f",
   "metadata": {},
   "outputs": [
    {
     "data": {
      "text/plain": [
       "array([[8.00133728e-312, 7.60861095e-322, 0.00000000e+000,\n",
       "        0.00000000e+000, 8.90104238e-307],\n",
       "       [1.15998412e-028, 4.31603868e-080, 1.94919985e-153,\n",
       "        1.35717430e+131, 6.98346901e-077],\n",
       "       [1.81148490e-152, 9.37041222e-076, 1.05117820e-153,\n",
       "        6.01391519e-154, 1.05121175e-153],\n",
       "       [7.68132025e+140, 6.01347002e-154, 7.54951879e-096,\n",
       "        1.95360725e-109, 4.90900643e+252],\n",
       "       [1.94918511e-153, 6.32672800e+180, 4.74483502e+170,\n",
       "        4.59210323e-072, 3.22136532e-317]])"
      ]
     },
     "execution_count": 49,
     "metadata": {},
     "output_type": "execute_result"
    }
   ],
   "source": [
    "np.empty(shape=(5,5))"
   ]
  },
  {
   "cell_type": "markdown",
   "id": "eec2e467",
   "metadata": {},
   "source": [
    "# 11)Random Function"
   ]
  },
  {
   "cell_type": "markdown",
   "id": "9a250bc1",
   "metadata": {},
   "source": [
    "a)np.random.rand"
   ]
  },
  {
   "cell_type": "code",
   "execution_count": 50,
   "id": "a7adbc89",
   "metadata": {},
   "outputs": [
    {
     "data": {
      "text/plain": [
       "array([[0.34556073, 0.39676747, 0.53881673, 0.41919451],\n",
       "       [0.6852195 , 0.20445225, 0.87811744, 0.02738759],\n",
       "       [0.67046751, 0.4173048 , 0.55868983, 0.14038694]])"
      ]
     },
     "execution_count": 50,
     "metadata": {},
     "output_type": "execute_result"
    }
   ],
   "source": [
    "np.random.rand(3,4)"
   ]
  },
  {
   "cell_type": "markdown",
   "id": "00e60280",
   "metadata": {},
   "source": [
    "b)np.random.randint"
   ]
  },
  {
   "cell_type": "code",
   "execution_count": 51,
   "id": "62046e0b",
   "metadata": {},
   "outputs": [
    {
     "data": {
      "text/plain": [
       "array([1, 7, 8, 7, 2, 1, 2, 9, 9, 4])"
      ]
     },
     "execution_count": 51,
     "metadata": {},
     "output_type": "execute_result"
    }
   ],
   "source": [
    "np.random.randint(low=1,high=10,size=10)"
   ]
  },
  {
   "cell_type": "markdown",
   "id": "150983d2",
   "metadata": {},
   "source": [
    "c)np.random.randn"
   ]
  },
  {
   "cell_type": "code",
   "execution_count": 52,
   "id": "63af8770",
   "metadata": {},
   "outputs": [
    {
     "data": {
      "text/plain": [
       "array([-0.17242821, -0.87785842,  0.04221375,  0.58281521, -1.10061918,\n",
       "        1.14472371,  0.90159072,  0.50249434,  0.90085595, -0.68372786])"
      ]
     },
     "execution_count": 52,
     "metadata": {},
     "output_type": "execute_result"
    }
   ],
   "source": [
    "np.random.randn(10)"
   ]
  },
  {
   "cell_type": "markdown",
   "id": "c4a111a6",
   "metadata": {},
   "source": [
    "# 12)Reshape Function"
   ]
  },
  {
   "cell_type": "code",
   "execution_count": 53,
   "id": "288bdc8b",
   "metadata": {},
   "outputs": [
    {
     "name": "stdout",
     "output_type": "stream",
     "text": [
      "[[11 10  9  7]\n",
      " [10  4  8  8]\n",
      " [14  5 12  6]]\n"
     ]
    }
   ],
   "source": [
    "arr=np.random.randint(1,15,(3,4))\n",
    "print(arr)"
   ]
  },
  {
   "cell_type": "code",
   "execution_count": 54,
   "id": "20758cdf",
   "metadata": {},
   "outputs": [
    {
     "name": "stdout",
     "output_type": "stream",
     "text": [
      "[[11 10  9]\n",
      " [ 7 10  4]\n",
      " [ 8  8 14]\n",
      " [ 5 12  6]]\n"
     ]
    }
   ],
   "source": [
    "arr=arr.reshape(4,3)\n",
    "print(arr)"
   ]
  },
  {
   "cell_type": "markdown",
   "id": "6eb0bf54",
   "metadata": {},
   "source": [
    "# 13)Linspace Function"
   ]
  },
  {
   "cell_type": "code",
   "execution_count": 55,
   "id": "2673eff9",
   "metadata": {},
   "outputs": [
    {
     "data": {
      "text/plain": [
       "array([ 1. ,  5.5, 10. ])"
      ]
     },
     "execution_count": 55,
     "metadata": {},
     "output_type": "execute_result"
    }
   ],
   "source": [
    "np.linspace(1,10,3)"
   ]
  },
  {
   "cell_type": "markdown",
   "id": "28bd1157",
   "metadata": {},
   "source": [
    "# 14)Flatten Function"
   ]
  },
  {
   "cell_type": "code",
   "execution_count": 56,
   "id": "55f813af",
   "metadata": {},
   "outputs": [
    {
     "name": "stdout",
     "output_type": "stream",
     "text": [
      "[[10  4  7  9]\n",
      " [ 1  3 11  8]\n",
      " [ 8 10  8  4]]\n",
      "[10  4  7  9  1  3 11  8  8 10  8  4]\n"
     ]
    }
   ],
   "source": [
    "arr=np.random.randint(1,15,(3,4))\n",
    "print(arr)\n",
    "\n",
    "arr=arr.flatten()\n",
    "print(arr)"
   ]
  },
  {
   "cell_type": "markdown",
   "id": "96766cdf",
   "metadata": {},
   "source": [
    "# 15)Logspace Fucntion"
   ]
  },
  {
   "cell_type": "code",
   "execution_count": 57,
   "id": "f480efda",
   "metadata": {},
   "outputs": [
    {
     "name": "stdout",
     "output_type": "stream",
     "text": [
      "[1.00000000e+02 1.77827941e+05 3.16227766e+08 5.62341325e+11\n",
      " 1.00000000e+15]\n",
      "[8.00000000e+00 4.75518173e+01 2.82646916e+02 1.68004681e+03\n",
      " 9.98615986e+03 5.93575061e+04 3.52819660e+05 2.09715200e+06]\n"
     ]
    }
   ],
   "source": [
    "print(np.logspace(2,15,5))\n",
    "print(np.logspace(3,21,8 ,base=2))      "
   ]
  },
  {
   "cell_type": "markdown",
   "id": "14fb22d9",
   "metadata": {},
   "source": [
    "# 16)Copy Function"
   ]
  },
  {
   "cell_type": "code",
   "execution_count": 58,
   "id": "2c32498f",
   "metadata": {},
   "outputs": [
    {
     "name": "stdout",
     "output_type": "stream",
     "text": [
      "[1 2 3 4 5 6 7 8 9] 1619581067568\n",
      "[1 2 3 4 5 6 7 8 9] 1619581067568\n"
     ]
    }
   ],
   "source": [
    "arr1=np.random.randint(1,15,(3,4))\n",
    "arr1=arr2\n",
    "print(arr1,id(arr1))\n",
    "print(arr2,id(arr2))"
   ]
  },
  {
   "cell_type": "markdown",
   "id": "0eabbf9b",
   "metadata": {},
   "source": [
    "# 17)arr.min(),arr.max(),arr.sum() Functions"
   ]
  },
  {
   "cell_type": "code",
   "execution_count": 59,
   "id": "120a1f86",
   "metadata": {},
   "outputs": [
    {
     "name": "stdout",
     "output_type": "stream",
     "text": [
      "[[14 14  7  5]\n",
      " [ 6  7  3 13]\n",
      " [12  6 12  8]]\n",
      "Min : 3\n",
      "Max 14\n",
      "Sum 107\n"
     ]
    }
   ],
   "source": [
    "arr=np.random.randint(1,15,(3,4))\n",
    "print(arr)\n",
    "print(\"Min :\",arr.min())\n",
    "print(\"Max\",arr.max())\n",
    "print(\"Sum\",arr.sum())"
   ]
  },
  {
   "cell_type": "code",
   "execution_count": 60,
   "id": "ea3f7310",
   "metadata": {},
   "outputs": [
    {
     "name": "stdout",
     "output_type": "stream",
     "text": [
      "Min : [6 6 3 5]\n",
      "Max [14 14 12 13]\n",
      "Sum [32 27 22 26]\n"
     ]
    }
   ],
   "source": [
    "#For cols\n",
    "print(\"Min :\",arr.min(axis=0))\n",
    "print(\"Max\",arr.max(axis=0))\n",
    "print(\"Sum\",arr.sum(axis=0))"
   ]
  },
  {
   "cell_type": "code",
   "execution_count": 61,
   "id": "2a3184a7",
   "metadata": {},
   "outputs": [
    {
     "name": "stdout",
     "output_type": "stream",
     "text": [
      "Min : [5 3 6]\n",
      "Max [14 13 12]\n",
      "Sum [40 29 38]\n"
     ]
    }
   ],
   "source": [
    "#For Rows\n",
    "print(\"Min :\",arr.min(axis=1))\n",
    "print(\"Max\",arr.max(axis=1))\n",
    "print(\"Sum\",arr.sum(axis=1))"
   ]
  },
  {
   "cell_type": "markdown",
   "id": "d4446dcb",
   "metadata": {},
   "source": [
    "# 18)Seed Fucntion"
   ]
  },
  {
   "cell_type": "code",
   "execution_count": 62,
   "id": "9bb2d7b5",
   "metadata": {},
   "outputs": [
    {
     "name": "stdout",
     "output_type": "stream",
     "text": [
      "[[ 6 12 13  9]\n",
      " [10 12  6  1]\n",
      " [ 1  2 13  8]]\n"
     ]
    }
   ],
   "source": [
    "np.random.seed(1)\n",
    "arr=np.random.randint(1,15,(3,4))\n",
    "print(arr)"
   ]
  },
  {
   "cell_type": "markdown",
   "id": "dd708250",
   "metadata": {},
   "source": [
    "# 18)Sorting Function"
   ]
  },
  {
   "cell_type": "code",
   "execution_count": 63,
   "id": "afcccbc6",
   "metadata": {},
   "outputs": [
    {
     "name": "stdout",
     "output_type": "stream",
     "text": [
      "[[ 6 12 13  9]\n",
      " [10 12  6  1]\n",
      " [ 1  2 13  8]]\n",
      "---------------\n",
      "[[ 6  9 12 13]\n",
      " [ 1  6 10 12]\n",
      " [ 1  2  8 13]]\n",
      "---------------\n",
      "[[ 1  2  6  1]\n",
      " [ 6 12 13  8]\n",
      " [10 12 13  9]]\n",
      "---------------\n",
      "---------------\n",
      "[[ 1  1  2  6]\n",
      " [ 6  8  9 10]\n",
      " [12 12 13 13]]\n"
     ]
    }
   ],
   "source": [
    "np.random.seed(1)\n",
    "arr=np.random.randint(1,15,(3,4))\n",
    "print(arr)\n",
    "print(\"-\"*15)\n",
    "\n",
    "print(np.sort(arr,axis=1))\n",
    "print(\"-\"*15)\n",
    "print(np.sort(arr,axis=0))\n",
    "print(\"-\"*15)\n",
    "\n",
    "np.sort(arr.flatten())\n",
    "print(\"-\"*15)\n",
    "\n",
    "arr=np.reshape(np.sort(arr.flatten()),arr.shape)\n",
    "print(arr)\n"
   ]
  },
  {
   "cell_type": "code",
   "execution_count": 64,
   "id": "881084ec",
   "metadata": {},
   "outputs": [
    {
     "name": "stdout",
     "output_type": "stream",
     "text": [
      "[[ 1  1  2  6]\n",
      " [ 6  8  9 10]\n",
      " [12 12 13 13]]\n"
     ]
    }
   ],
   "source": [
    "\n",
    "print(np.sort(arr,axis=1,kind=\"mergsort\"))"
   ]
  },
  {
   "cell_type": "markdown",
   "id": "cea891d3",
   "metadata": {},
   "source": [
    "# 19)Mathamatical OIperations"
   ]
  },
  {
   "cell_type": "markdown",
   "id": "38035e21",
   "metadata": {},
   "source": [
    "a)Adding"
   ]
  },
  {
   "cell_type": "code",
   "execution_count": 65,
   "id": "12ee3895",
   "metadata": {},
   "outputs": [
    {
     "name": "stdout",
     "output_type": "stream",
     "text": [
      "[[ 6 12 13  9]\n",
      " [10 12  6  1]\n",
      " [ 1  2 13  8]]\n",
      "---------------\n",
      "[[ 7 13 14 10]\n",
      " [11 13  7  2]\n",
      " [ 2  3 14  9]]\n"
     ]
    }
   ],
   "source": [
    "np.random.seed(1)\n",
    "arr=np.random.randint(1,15,(3,4))\n",
    "print(arr)\n",
    "print(\"-\"*15)\n",
    "\n",
    "arr1=arr+1\n",
    "print(arr1)"
   ]
  },
  {
   "cell_type": "markdown",
   "id": "38a36318",
   "metadata": {},
   "source": [
    "b)Substraction"
   ]
  },
  {
   "cell_type": "code",
   "execution_count": 66,
   "id": "2fb09dc9",
   "metadata": {},
   "outputs": [
    {
     "name": "stdout",
     "output_type": "stream",
     "text": [
      "[[ 6 12 13  9]\n",
      " [10 12  6  1]\n",
      " [ 1  2 13  8]]\n",
      "---------------\n",
      "[[ 4 10 11  7]\n",
      " [ 8 10  4 -1]\n",
      " [-1  0 11  6]]\n"
     ]
    }
   ],
   "source": [
    "np.random.seed(1)\n",
    "arr=np.random.randint(1,15,(3,4))\n",
    "print(arr)\n",
    "print(\"-\"*15)\n",
    "\n",
    "arr1=arr-2\n",
    "print(arr1)"
   ]
  },
  {
   "cell_type": "markdown",
   "id": "29422ac3",
   "metadata": {},
   "source": [
    "c)Multiplication"
   ]
  },
  {
   "cell_type": "code",
   "execution_count": 67,
   "id": "66633c27",
   "metadata": {},
   "outputs": [
    {
     "name": "stdout",
     "output_type": "stream",
     "text": [
      "[[ 6 12 13  9]\n",
      " [10 12  6  1]\n",
      " [ 1  2 13  8]]\n",
      "---------------\n",
      "[[12 24 26 18]\n",
      " [20 24 12  2]\n",
      " [ 2  4 26 16]]\n"
     ]
    }
   ],
   "source": [
    "np.random.seed(1)\n",
    "arr=np.random.randint(1,15,(3,4))\n",
    "print(arr)\n",
    "print(\"-\"*15)\n",
    "\n",
    "arr1=arr*2\n",
    "print(arr1)"
   ]
  },
  {
   "cell_type": "markdown",
   "id": "aec81552",
   "metadata": {},
   "source": [
    "d)Division"
   ]
  },
  {
   "cell_type": "code",
   "execution_count": 68,
   "id": "3df0d856",
   "metadata": {},
   "outputs": [
    {
     "name": "stdout",
     "output_type": "stream",
     "text": [
      "[[ 6 12 13  9]\n",
      " [10 12  6  1]\n",
      " [ 1  2 13  8]]\n",
      "---------------\n",
      "[[3.  6.  6.5 4.5]\n",
      " [5.  6.  3.  0.5]\n",
      " [0.5 1.  6.5 4. ]]\n",
      "---------------\n",
      "[[3 6 6 4]\n",
      " [5 6 3 0]\n",
      " [0 1 6 4]]\n"
     ]
    }
   ],
   "source": [
    "np.random.seed(1)\n",
    "arr=np.random.randint(1,15,(3,4))\n",
    "print(arr)\n",
    "print(\"-\"*15)\n",
    "\n",
    "arr1=arr/2\n",
    "print(arr1)\n",
    "print(\"-\"*15)\n",
    "\n",
    "arr2=arr//2\n",
    "print(arr2)"
   ]
  },
  {
   "cell_type": "markdown",
   "id": "7c41646a",
   "metadata": {},
   "source": [
    "e)Matrix Multiplication"
   ]
  },
  {
   "cell_type": "code",
   "execution_count": 74,
   "id": "658a353b",
   "metadata": {},
   "outputs": [
    {
     "data": {
      "text/plain": [
       "array([[9, 4],\n",
       "       [9, 9]])"
      ]
     },
     "execution_count": 74,
     "metadata": {},
     "output_type": "execute_result"
    }
   ],
   "source": [
    "np.random.seed(3)\n",
    "arr1=np.random.randint(1,10,(2,2))\n",
    "arr2=np.random.randint(1,10,(2,2))\n",
    "arr1\n"
   ]
  },
  {
   "cell_type": "code",
   "execution_count": 75,
   "id": "360fee43",
   "metadata": {},
   "outputs": [
    {
     "data": {
      "text/plain": [
       "array([[1, 6],\n",
       "       [4, 6]])"
      ]
     },
     "execution_count": 75,
     "metadata": {},
     "output_type": "execute_result"
    }
   ],
   "source": [
    "arr2"
   ]
  },
  {
   "cell_type": "code",
   "execution_count": 76,
   "id": "c24955d7",
   "metadata": {},
   "outputs": [
    {
     "data": {
      "text/plain": [
       "array([[ 25,  78],\n",
       "       [ 45, 108]])"
      ]
     },
     "execution_count": 76,
     "metadata": {},
     "output_type": "execute_result"
    }
   ],
   "source": [
    "arr1.dot(arr2)"
   ]
  },
  {
   "cell_type": "code",
   "execution_count": 77,
   "id": "f24febaa",
   "metadata": {},
   "outputs": [
    {
     "data": {
      "text/plain": [
       "array([[63, 58],\n",
       "       [90, 70]])"
      ]
     },
     "execution_count": 77,
     "metadata": {},
     "output_type": "execute_result"
    }
   ],
   "source": [
    "arr2.dot(arr1)"
   ]
  },
  {
   "cell_type": "markdown",
   "id": "27205ee2",
   "metadata": {},
   "source": [
    "f)Power Operation "
   ]
  },
  {
   "cell_type": "code",
   "execution_count": 78,
   "id": "917d83e3",
   "metadata": {},
   "outputs": [
    {
     "name": "stdout",
     "output_type": "stream",
     "text": [
      "[[1 6]\n",
      " [4 6]]\n",
      "---------------\n",
      "[[ 1 36]\n",
      " [16 36]]\n"
     ]
    }
   ],
   "source": [
    "print(arr2)\n",
    "print(\"-\"*15)\n",
    "print(arr2**2)"
   ]
  },
  {
   "cell_type": "markdown",
   "id": "7efc00f5",
   "metadata": {},
   "source": [
    "# 20)Percentile Function"
   ]
  },
  {
   "cell_type": "code",
   "execution_count": 85,
   "id": "e388deac",
   "metadata": {},
   "outputs": [
    {
     "name": "stdout",
     "output_type": "stream",
     "text": [
      "[9 4 9 9 1 6 4 6 8 7]\n",
      "---------------\n",
      "[1 4 4 6 6 7 8 9 9 9]\n",
      "8.75\n"
     ]
    }
   ],
   "source": [
    "np.random.seed(3)\n",
    "arr=np.random.randint(1,10,10)\n",
    "print(arr)\n",
    "print(\"-\"*15)\n",
    "\n",
    "arr=np.sort(arr)\n",
    "print(arr)\n",
    "\n",
    "print(np.percentile(arr,75))"
   ]
  },
  {
   "cell_type": "markdown",
   "id": "6c3eda9f",
   "metadata": {},
   "source": [
    "# 21) Mean, Variance and Standard Deviation"
   ]
  },
  {
   "cell_type": "code",
   "execution_count": 88,
   "id": "3f9f69c1",
   "metadata": {},
   "outputs": [
    {
     "name": "stdout",
     "output_type": "stream",
     "text": [
      "[9 4 9 9 1 6 4 6 8 7]\n",
      "Mean : 6.3\n",
      "Variance : 6.410000000000001\n",
      "Standard Deviation : 2.5317977802344327\n"
     ]
    }
   ],
   "source": [
    "np.random.seed(3)\n",
    "arr=np.random.randint(1,10,10)\n",
    "print(arr)\n",
    "\n",
    "print(\"Mean :\",arr.mean())\n",
    "print(\"Variance :\",arr.var())\n",
    "print(\"Standard Deviation :\",arr.std())\n"
   ]
  },
  {
   "cell_type": "markdown",
   "id": "555e6471",
   "metadata": {},
   "source": [
    "# 22)Filter Function"
   ]
  },
  {
   "cell_type": "code",
   "execution_count": 90,
   "id": "7d361466",
   "metadata": {},
   "outputs": [
    {
     "name": "stdout",
     "output_type": "stream",
     "text": [
      "[ 1  2  3  4  5  6  7  8  9 10 11 12 13 14]\n",
      "[ True  True  True  True False False False False False False False False\n",
      " False False]\n",
      "[1 2 3 4]\n"
     ]
    }
   ],
   "source": [
    "arr=np.arange(1,15)\n",
    "print(arr)\n",
    "print(arr<5)\n",
    "print(arr[arr<5])"
   ]
  },
  {
   "cell_type": "code",
   "execution_count": 95,
   "id": "dcb7ffb8",
   "metadata": {},
   "outputs": [],
   "source": [
    "arr [arr> 5]=10"
   ]
  },
  {
   "cell_type": "code",
   "execution_count": 96,
   "id": "8dd60971",
   "metadata": {},
   "outputs": [
    {
     "data": {
      "text/plain": [
       "array([10, 10, 10, 10,  5, 10, 10, 10, 10, 10, 10, 10, 10, 10])"
      ]
     },
     "execution_count": 96,
     "metadata": {},
     "output_type": "execute_result"
    }
   ],
   "source": [
    "arr"
   ]
  },
  {
   "cell_type": "markdown",
   "id": "d0a009ce",
   "metadata": {},
   "source": [
    "# 23)Transposing Array"
   ]
  },
  {
   "cell_type": "code",
   "execution_count": 98,
   "id": "6c03f21d",
   "metadata": {},
   "outputs": [
    {
     "name": "stdout",
     "output_type": "stream",
     "text": [
      "[[ 2 16 17  6 18]\n",
      " [15  1  1 10 19]\n",
      " [ 6  8  6 15  2]]\n",
      "--------------------\n",
      "[[ 2 15  6]\n",
      " [16  1  8]\n",
      " [17  1  6]\n",
      " [ 6 10 15]\n",
      " [18 19  2]]\n"
     ]
    }
   ],
   "source": [
    "arr=np.random.randint(1,20,(3,5))\n",
    "print(arr)\n",
    "print(\"-\"*20)\n",
    "print(arr.T)"
   ]
  },
  {
   "cell_type": "markdown",
   "id": "888ca4fc",
   "metadata": {},
   "source": [
    "# 24)Where Function"
   ]
  },
  {
   "cell_type": "code",
   "execution_count": 104,
   "id": "5aa2af46",
   "metadata": {},
   "outputs": [
    {
     "name": "stdout",
     "output_type": "stream",
     "text": [
      "[56 97 96 14 38 31 49 62 34 53]\n"
     ]
    }
   ],
   "source": [
    "arr=np.random.randint(1,100,10)\n",
    "print(arr)"
   ]
  },
  {
   "cell_type": "code",
   "execution_count": 109,
   "id": "16e9b4b1",
   "metadata": {},
   "outputs": [
    {
     "name": "stdout",
     "output_type": "stream",
     "text": [
      "['even' '97' 'even' 'even' 'even' '31' '49' 'even' 'even' '53']\n",
      "['56' 'odd' '96' '14' '38' 'odd' 'odd' '62' '34' 'odd']\n"
     ]
    }
   ],
   "source": [
    "print(np.where(arr%2==0,\"even\",arr))\n",
    "print(np.where(arr%2!=0,\"odd\",arr))"
   ]
  },
  {
   "cell_type": "code",
   "execution_count": 101,
   "id": "a8e40cf8",
   "metadata": {},
   "outputs": [
    {
     "data": {
      "text/plain": [
       "(array([0, 1, 3, 9], dtype=int64),)"
      ]
     },
     "execution_count": 101,
     "metadata": {},
     "output_type": "execute_result"
    }
   ],
   "source": [
    "arr"
   ]
  },
  {
   "cell_type": "markdown",
   "id": "7d5ecd02",
   "metadata": {},
   "source": [
    "# 25)Merging Array"
   ]
  },
  {
   "cell_type": "code",
   "execution_count": 110,
   "id": "6d560491",
   "metadata": {},
   "outputs": [
    {
     "data": {
      "text/plain": [
       "(array([[2, 3, 3, 5],\n",
       "        [9, 1, 7, 1]]),\n",
       " array([[5, 2, 6, 2],\n",
       "        [9, 9, 8, 1]]))"
      ]
     },
     "execution_count": 110,
     "metadata": {},
     "output_type": "execute_result"
    }
   ],
   "source": [
    "arr1=np.random.randint(1,10,(2,4))\n",
    "arr2=np.random.randint(1,10,(2,4))\n",
    "arr1,arr2"
   ]
  },
  {
   "cell_type": "code",
   "execution_count": 114,
   "id": "06073d5c",
   "metadata": {},
   "outputs": [
    {
     "data": {
      "text/plain": [
       "array([[2, 3, 3, 5],\n",
       "       [9, 1, 7, 1],\n",
       "       [5, 2, 6, 2],\n",
       "       [9, 9, 8, 1]])"
      ]
     },
     "execution_count": 114,
     "metadata": {},
     "output_type": "execute_result"
    }
   ],
   "source": [
    "np.concatenate((arr1,arr2), axis=0)"
   ]
  },
  {
   "cell_type": "code",
   "execution_count": 115,
   "id": "966332c2",
   "metadata": {},
   "outputs": [
    {
     "data": {
      "text/plain": [
       "array([[2, 3, 3, 5, 5, 2, 6, 2],\n",
       "       [9, 1, 7, 1, 9, 9, 8, 1]])"
      ]
     },
     "execution_count": 115,
     "metadata": {},
     "output_type": "execute_result"
    }
   ],
   "source": [
    "np.concatenate((arr1,arr2), axis=1)"
   ]
  },
  {
   "cell_type": "markdown",
   "id": "e2c5731e",
   "metadata": {},
   "source": [
    "# 26)Spliting Array"
   ]
  },
  {
   "cell_type": "code",
   "execution_count": 120,
   "id": "d73fc839",
   "metadata": {},
   "outputs": [
    {
     "name": "stdout",
     "output_type": "stream",
     "text": [
      "[[4 3 5 2]\n",
      " [3 3 8 4]\n",
      " [5 2 7 8]\n",
      " [2 1 1 6]]\n"
     ]
    }
   ],
   "source": [
    "arr=np.random.randint(1,10,(4,4))\n",
    "print(arr)"
   ]
  },
  {
   "cell_type": "code",
   "execution_count": 121,
   "id": "c062ceb1",
   "metadata": {},
   "outputs": [
    {
     "data": {
      "text/plain": [
       "[array([[4, 3, 5, 2],\n",
       "        [3, 3, 8, 4]]),\n",
       " array([[5, 2, 7, 8],\n",
       "        [2, 1, 1, 6]])]"
      ]
     },
     "execution_count": 121,
     "metadata": {},
     "output_type": "execute_result"
    }
   ],
   "source": [
    "np.vsplit(arr,2)"
   ]
  },
  {
   "cell_type": "code",
   "execution_count": 122,
   "id": "7a8ad15a",
   "metadata": {},
   "outputs": [
    {
     "data": {
      "text/plain": [
       "[array([[4, 3],\n",
       "        [3, 3],\n",
       "        [5, 2],\n",
       "        [2, 1]]),\n",
       " array([[5, 2],\n",
       "        [8, 4],\n",
       "        [7, 8],\n",
       "        [1, 6]])]"
      ]
     },
     "execution_count": 122,
     "metadata": {},
     "output_type": "execute_result"
    }
   ],
   "source": [
    "np.hsplit(arr,2)"
   ]
  },
  {
   "cell_type": "code",
   "execution_count": null,
   "id": "7d498670",
   "metadata": {},
   "outputs": [],
   "source": []
  },
  {
   "cell_type": "code",
   "execution_count": null,
   "id": "a49023a4",
   "metadata": {},
   "outputs": [],
   "source": []
  },
  {
   "cell_type": "code",
   "execution_count": null,
   "id": "f49d52c0",
   "metadata": {},
   "outputs": [],
   "source": []
  }
 ],
 "metadata": {
  "kernelspec": {
   "display_name": "Python 3 (ipykernel)",
   "language": "python",
   "name": "python3"
  },
  "language_info": {
   "codemirror_mode": {
    "name": "ipython",
    "version": 3
   },
   "file_extension": ".py",
   "mimetype": "text/x-python",
   "name": "python",
   "nbconvert_exporter": "python",
   "pygments_lexer": "ipython3",
   "version": "3.11.4"
  }
 },
 "nbformat": 4,
 "nbformat_minor": 5
}
